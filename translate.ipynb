{
  "nbformat": 4,
  "nbformat_minor": 0,
  "metadata": {
    "colab": {
      "provenance": [],
      "collapsed_sections": []
    },
    "kernelspec": {
      "name": "python3",
      "display_name": "Python 3"
    },
    "language_info": {
      "name": "python"
    }
  },
  "cells": [
    {
      "cell_type": "code",
      "metadata": {
        "id": "rCGoTog4TAaF"
      },
      "source": [
        "# Install the DeepL API for translation\n",
        "!pip install deepl\n",
        "# Cloning the repository\n",
        "!git clone https://github.com/hexunlin/Poem2Image.git\n",
        "# CD to the folder address\n",
        "%cd '/content/Poem2Image'"
      ],
      "execution_count": null,
      "outputs": []
    },
    {
      "cell_type": "code",
      "metadata": {
        "id": "7cUcwbZaTCBy"
      },
      "source": [
        "# import packages\n",
        "import deepl\n",
        "import numpy as np\n",
        "import os\n",
        "import requests "
      ],
      "execution_count": 5,
      "outputs": []
    },
    {
      "cell_type": "code",
      "metadata": {
        "id": "i0GD8T3uDz4f"
      },
      "source": [
        "# Load the Chinese poems\n",
        "poetry = np.loadtxt(\"./poetry_CN.txt\", dtype=np.str, delimiter=\",\")"
      ],
      "execution_count": null,
      "outputs": []
    },
    {
      "cell_type": "code",
      "metadata": {
        "id": "wu7ePLP4_gRq"
      },
      "source": [
        "# Using DeepL to translate poems from Chinese to English, \n",
        "# You could apply your authorized key from DeepL API: https://www.deepl.com/pro-api\n",
        "\n",
        "auth_key = '' # Your Key\n",
        "target_language = 'EN-US'\n",
        "translate_text = []\n",
        "\n",
        "# Translate all poems to English\n",
        "for i in poetry:\n",
        "  text = i\n",
        "  result = requests.get( \n",
        "    \"https://api.deepl.com/v2/translate\", \n",
        "    params={ \n",
        "      \"auth_key\": auth_key, \n",
        "      \"target_lang\": target_language, \n",
        "      \"text\": text, \n",
        "    }, \n",
        "  ) \n",
        "  translator = deepl.Translator(auth_key) \n",
        "  result = translator.translate_text(text, target_lang=target_language) \n",
        "  translate_text.append(result.text)"
      ],
      "execution_count": null,
      "outputs": []
    },
    {
      "cell_type": "code",
      "metadata": {
        "id": "nak1l8XVGJYo"
      },
      "source": [
        "# Save the translated poems\n",
        "with open(\"./poetry_EN.txt\", 'w') as f:\n",
        "    for i in translate_text:\n",
        "        f.write(i+'\\n')\n",
        "f.close()"
      ],
      "execution_count": null,
      "outputs": []
    }
  ]
}